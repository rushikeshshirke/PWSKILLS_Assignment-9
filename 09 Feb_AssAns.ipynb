{
 "cells": [
  {
   "cell_type": "code",
   "execution_count": 1,
   "id": "f93cef28-7d83-4d9d-8c66-691de5b21531",
   "metadata": {},
   "outputs": [],
   "source": [
    "# Q1\n",
    "\n",
    "class vehicle:\n",
    "    def __init__(self, name_of_vehicle, max_speed, average_of_vehicle):\n",
    "        self.name_of_vehicle = name_of_vehicle\n",
    "        self.max_speed = max_speed\n",
    "        self.average_of_vehicle = average_of_vehicle"
   ]
  },
  {
   "cell_type": "code",
   "execution_count": 2,
   "id": "b2a789b6-fc98-49c1-b139-242660e9c9ab",
   "metadata": {},
   "outputs": [],
   "source": [
    "two_wheeler = vehicle('Pulsar', '121', '45')"
   ]
  },
  {
   "cell_type": "code",
   "execution_count": 3,
   "id": "193384fe-d97c-41a0-b2a3-f2531789f417",
   "metadata": {},
   "outputs": [],
   "source": [
    "# Q2\n",
    "\n",
    "class car(vehicle):\n",
    "    def seating_capacity(self, capacity):\n",
    "        self.capacity = capacity\n",
    "        return self.name_of_vehicle, self.capacity"
   ]
  },
  {
   "cell_type": "code",
   "execution_count": 7,
   "id": "b066080f-eb60-4ec7-a9d0-efc154f59719",
   "metadata": {},
   "outputs": [],
   "source": [
    "c = car('Mahindra Thar', 180, 15)"
   ]
  },
  {
   "cell_type": "code",
   "execution_count": 10,
   "id": "d4969fb4-be1b-428d-8589-cdbdb2d3b6ad",
   "metadata": {},
   "outputs": [
    {
     "data": {
      "text/plain": [
       "('Mahindra Thar', 4)"
      ]
     },
     "execution_count": 10,
     "metadata": {},
     "output_type": "execute_result"
    }
   ],
   "source": [
    "c.seating_capacity(4)"
   ]
  },
  {
   "cell_type": "code",
   "execution_count": 12,
   "id": "29bdd9f6-7b36-460a-a7c5-f6b30c02e74c",
   "metadata": {},
   "outputs": [],
   "source": [
    "# Q3\n",
    "# Single class inheriting multiple classes is called as Multiple Inheritance\n",
    "\n",
    "class A:\n",
    "    def A_method(self):\n",
    "        print('This is from class A')"
   ]
  },
  {
   "cell_type": "code",
   "execution_count": 13,
   "id": "d12625b1-92a7-4c16-a725-ae54c968b130",
   "metadata": {},
   "outputs": [],
   "source": [
    "class B:\n",
    "    def B_method(self):\n",
    "        print('This is from class B')"
   ]
  },
  {
   "cell_type": "code",
   "execution_count": 15,
   "id": "724ec937-2b65-4807-8aa1-800167070770",
   "metadata": {},
   "outputs": [],
   "source": [
    "class C(A, B):\n",
    "    pass"
   ]
  },
  {
   "cell_type": "code",
   "execution_count": 16,
   "id": "1ad47fa3-f8fa-4711-abea-ba134c11ddee",
   "metadata": {},
   "outputs": [],
   "source": [
    "obj_of_class_C = C()"
   ]
  },
  {
   "cell_type": "code",
   "execution_count": 17,
   "id": "094b77fa-4be4-42ca-b668-f7bc51a67365",
   "metadata": {},
   "outputs": [
    {
     "name": "stdout",
     "output_type": "stream",
     "text": [
      "This is from class B\n"
     ]
    }
   ],
   "source": [
    "obj_of_class_C.B_method()"
   ]
  },
  {
   "cell_type": "code",
   "execution_count": 18,
   "id": "2a40b52d-c1de-410d-b7ee-ea44eb9db75a",
   "metadata": {},
   "outputs": [
    {
     "name": "stdout",
     "output_type": "stream",
     "text": [
      "This is from class A\n"
     ]
    }
   ],
   "source": [
    "obj_of_class_C.A_method()"
   ]
  },
  {
   "cell_type": "code",
   "execution_count": 24,
   "id": "0a272aa6-ee38-437d-821e-39793f4d1715",
   "metadata": {},
   "outputs": [],
   "source": [
    "# Q4\n",
    "\n",
    "# Setter methods are used to assign the values to class members without constructor.\n",
    "# Getter methods are used to get the data using a additional method.\n",
    "\n",
    "class Student:\n",
    "    def __init__(self, name, age, city='Amravati'):\n",
    "        self.name = name\n",
    "        self.age = age\n",
    "        self.city = city\n",
    "        \n",
    "    def set_city(self, city):\n",
    "        self.city = city\n",
    "        \n",
    "    def get_city(self):\n",
    "        return self.city"
   ]
  },
  {
   "cell_type": "code",
   "execution_count": 25,
   "id": "91f75c09-1b20-4c8e-bd43-11070a8a2390",
   "metadata": {},
   "outputs": [],
   "source": [
    "s = Student('Rushikesh', 20)"
   ]
  },
  {
   "cell_type": "code",
   "execution_count": 26,
   "id": "71293caa-7588-4108-bff4-1be998eb0c46",
   "metadata": {},
   "outputs": [],
   "source": [
    "s.set_city('Pune')"
   ]
  },
  {
   "cell_type": "code",
   "execution_count": 27,
   "id": "8df6fc2d-3450-406b-9143-232c58b846bb",
   "metadata": {},
   "outputs": [
    {
     "data": {
      "text/plain": [
       "'Pune'"
      ]
     },
     "execution_count": 27,
     "metadata": {},
     "output_type": "execute_result"
    }
   ],
   "source": [
    "s.get_city()"
   ]
  },
  {
   "cell_type": "code",
   "execution_count": 29,
   "id": "978f3286-9a8e-4b87-ac01-f66a477a9f9e",
   "metadata": {},
   "outputs": [],
   "source": [
    "# Q5\n",
    "\n",
    "# Method overriding is an ability of any object-oriented programming language that allows a subclass or \n",
    "# child class to provide a specific implementation of a method that is already provided by one of its \n",
    "# super-classes or parent classes.\n",
    "\n",
    "class Parent:\n",
    "    def __init__(self):\n",
    "        self.value = 'Parent'\n",
    "    \n",
    "    def show(self):\n",
    "        return self.value"
   ]
  },
  {
   "cell_type": "code",
   "execution_count": 30,
   "id": "ed7ab2f1-0407-46c6-ba1a-296c60275f6c",
   "metadata": {},
   "outputs": [],
   "source": [
    "class Child(Parent):\n",
    "    def __init__(self):\n",
    "        self.value = 'Child'\n",
    "        \n",
    "    def show(self):\n",
    "        return self.value"
   ]
  },
  {
   "cell_type": "code",
   "execution_count": 31,
   "id": "3a4519bb-2033-4a6e-9e11-d9dc14e431cc",
   "metadata": {},
   "outputs": [],
   "source": [
    "obj1 = Parent()"
   ]
  },
  {
   "cell_type": "code",
   "execution_count": 32,
   "id": "073bb938-2980-4e3e-ad3b-9a61c5b74421",
   "metadata": {},
   "outputs": [],
   "source": [
    "obj2 = Child()"
   ]
  },
  {
   "cell_type": "code",
   "execution_count": 33,
   "id": "f5918a10-ef13-4802-8763-86c1b33b4ffc",
   "metadata": {},
   "outputs": [
    {
     "data": {
      "text/plain": [
       "'Parent'"
      ]
     },
     "execution_count": 33,
     "metadata": {},
     "output_type": "execute_result"
    }
   ],
   "source": [
    "obj1.show()"
   ]
  },
  {
   "cell_type": "code",
   "execution_count": 34,
   "id": "a7e1cf45-7d94-419e-b29d-8eb5395991eb",
   "metadata": {},
   "outputs": [
    {
     "data": {
      "text/plain": [
       "'Child'"
      ]
     },
     "execution_count": 34,
     "metadata": {},
     "output_type": "execute_result"
    }
   ],
   "source": [
    "obj2.show()"
   ]
  },
  {
   "cell_type": "code",
   "execution_count": null,
   "id": "df8c5ed4-92f5-40de-b150-d7b76bc5f76e",
   "metadata": {},
   "outputs": [],
   "source": []
  }
 ],
 "metadata": {
  "kernelspec": {
   "display_name": "Python 3 (ipykernel)",
   "language": "python",
   "name": "python3"
  },
  "language_info": {
   "codemirror_mode": {
    "name": "ipython",
    "version": 3
   },
   "file_extension": ".py",
   "mimetype": "text/x-python",
   "name": "python",
   "nbconvert_exporter": "python",
   "pygments_lexer": "ipython3",
   "version": "3.10.8"
  }
 },
 "nbformat": 4,
 "nbformat_minor": 5
}
